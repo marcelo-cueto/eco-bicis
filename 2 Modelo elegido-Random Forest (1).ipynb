{
 "cells": [
  {
   "cell_type": "code",
   "execution_count": 2,
   "metadata": {},
   "outputs": [],
   "source": [
    "import pandas as pd\n",
    "import numpy as np\n",
    "\n",
    "%matplotlib inline\n",
    "import matplotlib.pyplot as plt\n",
    "import seaborn as sns\n",
    "\n",
    "from sklearn import preprocessing\n",
    "from sklearn.metrics import confusion_matrix, precision_score, recall_score, roc_curve, auc, accuracy_score\n",
    "from sklearn import linear_model\n",
    "from sklearn.datasets import load_breast_cancer\n",
    "from sklearn.model_selection import train_test_split\n",
    "from sklearn.model_selection import cross_val_score, KFold\n",
    "from sklearn.preprocessing import StandardScaler\n",
    "from sklearn.neighbors import KNeighborsClassifier"
   ]
  },
  {
   "cell_type": "markdown",
   "metadata": {},
   "source": [
    "\n",
    "# Esta notebook es un primer boceto de lo que habría que hacer.\n",
    "  Ojo con el nombre de las series que se me pudo haber escapado algo de los ejemplos.\n",
    "  \n",
    "  Tener en cuenta la creación de nuestras X e y. \n",
    "  \n",
    "  En el modelo Naive Bayes Multinomial la mayoría de los ejemplos es con clasificador de texto.\n",
    "  \n",
    "  Ojo  con la estandarización de aplicarlo al set de entreamiento y llevar esa transformación al de testeo."
   ]
  },
  {
   "cell_type": "markdown",
   "metadata": {},
   "source": [
    "## Cargar el data set"
   ]
  },
  {
   "cell_type": "code",
   "execution_count": 3,
   "metadata": {},
   "outputs": [],
   "source": [
    "import pandas as pd\n",
    "import numpy as np\n",
    "\n",
    "df = pd.read_csv('df_ecobicis_final.csv')\n"
   ]
  },
  {
   "cell_type": "code",
   "execution_count": 4,
   "metadata": {},
   "outputs": [
    {
     "data": {
      "text/html": [
       "<div>\n",
       "<style scoped>\n",
       "    .dataframe tbody tr th:only-of-type {\n",
       "        vertical-align: middle;\n",
       "    }\n",
       "\n",
       "    .dataframe tbody tr th {\n",
       "        vertical-align: top;\n",
       "    }\n",
       "\n",
       "    .dataframe thead th {\n",
       "        text-align: right;\n",
       "    }\n",
       "</style>\n",
       "<table border=\"1\" class=\"dataframe\">\n",
       "  <thead>\n",
       "    <tr style=\"text-align: right;\">\n",
       "      <th></th>\n",
       "      <th>Unnamed: 0</th>\n",
       "      <th>bici_id_usuario</th>\n",
       "      <th>bici_Fecha_hora_retiro</th>\n",
       "      <th>bici_tiempo_uso</th>\n",
       "      <th>bici_nombre_estacion_origen</th>\n",
       "      <th>bici_estacion_origen</th>\n",
       "      <th>bici_nombre_estacion_destino</th>\n",
       "      <th>bici_estacion_destino</th>\n",
       "      <th>bici_sexo</th>\n",
       "      <th>bici_edad</th>\n",
       "      <th>...</th>\n",
       "      <th>barrio_origen</th>\n",
       "      <th>comuna_origen</th>\n",
       "      <th>barrio_destino</th>\n",
       "      <th>comuna_destino</th>\n",
       "      <th>feriado</th>\n",
       "      <th>dia</th>\n",
       "      <th>uso_categorico</th>\n",
       "      <th>hora_simple</th>\n",
       "      <th>estacion_agno</th>\n",
       "      <th>rango_horario</th>\n",
       "    </tr>\n",
       "  </thead>\n",
       "  <tbody>\n",
       "    <tr>\n",
       "      <th>1018419</th>\n",
       "      <td>1018419</td>\n",
       "      <td>494072</td>\n",
       "      <td>2018-06-29 07:52:11</td>\n",
       "      <td>10</td>\n",
       "      <td>F. J. Santamaría de Oro</td>\n",
       "      <td>125</td>\n",
       "      <td>Distrito Audiovisual</td>\n",
       "      <td>20</td>\n",
       "      <td>M</td>\n",
       "      <td>22</td>\n",
       "      <td>...</td>\n",
       "      <td>PALERMO</td>\n",
       "      <td>14</td>\n",
       "      <td>COLEGIALES</td>\n",
       "      <td>13</td>\n",
       "      <td>0</td>\n",
       "      <td>VIERNES</td>\n",
       "      <td>BAJO</td>\n",
       "      <td>7</td>\n",
       "      <td>INVIERNO</td>\n",
       "      <td>6-11</td>\n",
       "    </tr>\n",
       "    <tr>\n",
       "      <th>2524838</th>\n",
       "      <td>2524838</td>\n",
       "      <td>216420</td>\n",
       "      <td>2018-12-17 21:36:28</td>\n",
       "      <td>11</td>\n",
       "      <td>Acuña de Figueroa</td>\n",
       "      <td>54</td>\n",
       "      <td>Coronel Díaz</td>\n",
       "      <td>59</td>\n",
       "      <td>F</td>\n",
       "      <td>25</td>\n",
       "      <td>...</td>\n",
       "      <td>ALMAGRO</td>\n",
       "      <td>5</td>\n",
       "      <td>PALERMO</td>\n",
       "      <td>14</td>\n",
       "      <td>0</td>\n",
       "      <td>LUNES</td>\n",
       "      <td>BAJO</td>\n",
       "      <td>21</td>\n",
       "      <td>PRIMAVERA</td>\n",
       "      <td>18-23</td>\n",
       "    </tr>\n",
       "    <tr>\n",
       "      <th>746383</th>\n",
       "      <td>746383</td>\n",
       "      <td>513570</td>\n",
       "      <td>2018-05-28 13:35:44</td>\n",
       "      <td>20</td>\n",
       "      <td>Rincón</td>\n",
       "      <td>106</td>\n",
       "      <td>Acuña de Figueroa</td>\n",
       "      <td>54</td>\n",
       "      <td>M</td>\n",
       "      <td>31</td>\n",
       "      <td>...</td>\n",
       "      <td>BALVANERA</td>\n",
       "      <td>3</td>\n",
       "      <td>ALMAGRO</td>\n",
       "      <td>5</td>\n",
       "      <td>0</td>\n",
       "      <td>LUNES</td>\n",
       "      <td>MEDIO</td>\n",
       "      <td>13</td>\n",
       "      <td>OTOÑO</td>\n",
       "      <td>12-17</td>\n",
       "    </tr>\n",
       "    <tr>\n",
       "      <th>785677</th>\n",
       "      <td>785677</td>\n",
       "      <td>213963</td>\n",
       "      <td>2018-06-01 23:30:12</td>\n",
       "      <td>8</td>\n",
       "      <td>Gallo</td>\n",
       "      <td>154</td>\n",
       "      <td>Austria y French</td>\n",
       "      <td>200</td>\n",
       "      <td>F</td>\n",
       "      <td>27</td>\n",
       "      <td>...</td>\n",
       "      <td>BALVANERA</td>\n",
       "      <td>3</td>\n",
       "      <td>RECOLETA</td>\n",
       "      <td>2</td>\n",
       "      <td>0</td>\n",
       "      <td>VIERNES</td>\n",
       "      <td>BAJO</td>\n",
       "      <td>23</td>\n",
       "      <td>OTOÑO</td>\n",
       "      <td>18-23</td>\n",
       "    </tr>\n",
       "    <tr>\n",
       "      <th>1008875</th>\n",
       "      <td>1008875</td>\n",
       "      <td>67065</td>\n",
       "      <td>2018-06-28 11:35:50</td>\n",
       "      <td>15</td>\n",
       "      <td>Plaza Almagro</td>\n",
       "      <td>17</td>\n",
       "      <td>Ravignani</td>\n",
       "      <td>145</td>\n",
       "      <td>M</td>\n",
       "      <td>29</td>\n",
       "      <td>...</td>\n",
       "      <td>ALMAGRO</td>\n",
       "      <td>5</td>\n",
       "      <td>PALERMO</td>\n",
       "      <td>14</td>\n",
       "      <td>0</td>\n",
       "      <td>JUEVES</td>\n",
       "      <td>BAJO</td>\n",
       "      <td>11</td>\n",
       "      <td>INVIERNO</td>\n",
       "      <td>6-11</td>\n",
       "    </tr>\n",
       "    <tr>\n",
       "      <th>1236561</th>\n",
       "      <td>1236561</td>\n",
       "      <td>472840</td>\n",
       "      <td>2018-07-30 07:00:52</td>\n",
       "      <td>54</td>\n",
       "      <td>Hipolito Yrigoyen</td>\n",
       "      <td>167</td>\n",
       "      <td>Retiro III</td>\n",
       "      <td>131</td>\n",
       "      <td>M</td>\n",
       "      <td>42</td>\n",
       "      <td>...</td>\n",
       "      <td>ALMAGRO</td>\n",
       "      <td>5</td>\n",
       "      <td>RETIRO</td>\n",
       "      <td>1</td>\n",
       "      <td>0</td>\n",
       "      <td>LUNES</td>\n",
       "      <td>ALTO</td>\n",
       "      <td>7</td>\n",
       "      <td>INVIERNO</td>\n",
       "      <td>6-11</td>\n",
       "    </tr>\n",
       "    <tr>\n",
       "      <th>1697624</th>\n",
       "      <td>1697624</td>\n",
       "      <td>436798</td>\n",
       "      <td>2018-09-12 12:15:24</td>\n",
       "      <td>17</td>\n",
       "      <td>Virrey Cevallos</td>\n",
       "      <td>183</td>\n",
       "      <td>Lavalle</td>\n",
       "      <td>84</td>\n",
       "      <td>F</td>\n",
       "      <td>20</td>\n",
       "      <td>...</td>\n",
       "      <td>MONSERRAT</td>\n",
       "      <td>1</td>\n",
       "      <td>BALVANERA</td>\n",
       "      <td>3</td>\n",
       "      <td>0</td>\n",
       "      <td>MIERCOLES</td>\n",
       "      <td>BAJO</td>\n",
       "      <td>12</td>\n",
       "      <td>INVIERNO</td>\n",
       "      <td>12-17</td>\n",
       "    </tr>\n",
       "    <tr>\n",
       "      <th>853429</th>\n",
       "      <td>853429</td>\n",
       "      <td>508700</td>\n",
       "      <td>2018-06-10 14:43:06</td>\n",
       "      <td>21</td>\n",
       "      <td>Aduana</td>\n",
       "      <td>3</td>\n",
       "      <td>Aime Paine</td>\n",
       "      <td>151</td>\n",
       "      <td>F</td>\n",
       "      <td>28</td>\n",
       "      <td>...</td>\n",
       "      <td>MONSERRAT</td>\n",
       "      <td>1</td>\n",
       "      <td>PUERTO MADERO</td>\n",
       "      <td>1</td>\n",
       "      <td>0</td>\n",
       "      <td>DOMINGO</td>\n",
       "      <td>BAJO</td>\n",
       "      <td>14</td>\n",
       "      <td>OTOÑO</td>\n",
       "      <td>12-17</td>\n",
       "    </tr>\n",
       "    <tr>\n",
       "      <th>436548</th>\n",
       "      <td>436548</td>\n",
       "      <td>77183</td>\n",
       "      <td>2018-04-17 20:22:38</td>\n",
       "      <td>10</td>\n",
       "      <td>Corrientes</td>\n",
       "      <td>132</td>\n",
       "      <td>Marcelo T. de Alvear</td>\n",
       "      <td>135</td>\n",
       "      <td>M</td>\n",
       "      <td>71</td>\n",
       "      <td>...</td>\n",
       "      <td>SAN NICOLAS</td>\n",
       "      <td>1</td>\n",
       "      <td>RETIRO</td>\n",
       "      <td>1</td>\n",
       "      <td>0</td>\n",
       "      <td>MARTES</td>\n",
       "      <td>BAJO</td>\n",
       "      <td>20</td>\n",
       "      <td>OTOÑO</td>\n",
       "      <td>18-23</td>\n",
       "    </tr>\n",
       "    <tr>\n",
       "      <th>1855299</th>\n",
       "      <td>1855299</td>\n",
       "      <td>495525</td>\n",
       "      <td>2018-09-26 13:01:19</td>\n",
       "      <td>43</td>\n",
       "      <td>Estados Unidos</td>\n",
       "      <td>168</td>\n",
       "      <td>Legislatura</td>\n",
       "      <td>16</td>\n",
       "      <td>F</td>\n",
       "      <td>22</td>\n",
       "      <td>...</td>\n",
       "      <td>CONSTITUCION</td>\n",
       "      <td>1</td>\n",
       "      <td>MONSERRAT</td>\n",
       "      <td>1</td>\n",
       "      <td>0</td>\n",
       "      <td>MIERCOLES</td>\n",
       "      <td>ALTO</td>\n",
       "      <td>13</td>\n",
       "      <td>PRIMAVERA</td>\n",
       "      <td>12-17</td>\n",
       "    </tr>\n",
       "  </tbody>\n",
       "</table>\n",
       "<p>10 rows × 23 columns</p>\n",
       "</div>"
      ],
      "text/plain": [
       "         Unnamed: 0  bici_id_usuario bici_Fecha_hora_retiro  bici_tiempo_uso  \\\n",
       "1018419     1018419           494072    2018-06-29 07:52:11               10   \n",
       "2524838     2524838           216420    2018-12-17 21:36:28               11   \n",
       "746383       746383           513570    2018-05-28 13:35:44               20   \n",
       "785677       785677           213963    2018-06-01 23:30:12                8   \n",
       "1008875     1008875            67065    2018-06-28 11:35:50               15   \n",
       "1236561     1236561           472840    2018-07-30 07:00:52               54   \n",
       "1697624     1697624           436798    2018-09-12 12:15:24               17   \n",
       "853429       853429           508700    2018-06-10 14:43:06               21   \n",
       "436548       436548            77183    2018-04-17 20:22:38               10   \n",
       "1855299     1855299           495525    2018-09-26 13:01:19               43   \n",
       "\n",
       "        bici_nombre_estacion_origen  bici_estacion_origen  \\\n",
       "1018419     F. J. Santamaría de Oro                   125   \n",
       "2524838           Acuña de Figueroa                    54   \n",
       "746383                       Rincón                   106   \n",
       "785677                        Gallo                   154   \n",
       "1008875               Plaza Almagro                    17   \n",
       "1236561           Hipolito Yrigoyen                   167   \n",
       "1697624             Virrey Cevallos                   183   \n",
       "853429                       Aduana                     3   \n",
       "436548                   Corrientes                   132   \n",
       "1855299              Estados Unidos                   168   \n",
       "\n",
       "        bici_nombre_estacion_destino  bici_estacion_destino bici_sexo  \\\n",
       "1018419         Distrito Audiovisual                     20         M   \n",
       "2524838                 Coronel Díaz                     59         F   \n",
       "746383             Acuña de Figueroa                     54         M   \n",
       "785677              Austria y French                    200         F   \n",
       "1008875                    Ravignani                    145         M   \n",
       "1236561                   Retiro III                    131         M   \n",
       "1697624                      Lavalle                     84         F   \n",
       "853429                    Aime Paine                    151         F   \n",
       "436548          Marcelo T. de Alvear                    135         M   \n",
       "1855299                  Legislatura                     16         F   \n",
       "\n",
       "         bici_edad  ... barrio_origen comuna_origen  barrio_destino  \\\n",
       "1018419         22  ...       PALERMO            14      COLEGIALES   \n",
       "2524838         25  ...       ALMAGRO             5         PALERMO   \n",
       "746383          31  ...     BALVANERA             3         ALMAGRO   \n",
       "785677          27  ...     BALVANERA             3        RECOLETA   \n",
       "1008875         29  ...       ALMAGRO             5         PALERMO   \n",
       "1236561         42  ...       ALMAGRO             5          RETIRO   \n",
       "1697624         20  ...     MONSERRAT             1       BALVANERA   \n",
       "853429          28  ...     MONSERRAT             1   PUERTO MADERO   \n",
       "436548          71  ...   SAN NICOLAS             1          RETIRO   \n",
       "1855299         22  ...  CONSTITUCION             1       MONSERRAT   \n",
       "\n",
       "        comuna_destino  feriado        dia  uso_categorico  hora_simple  \\\n",
       "1018419             13        0    VIERNES            BAJO            7   \n",
       "2524838             14        0      LUNES            BAJO           21   \n",
       "746383               5        0      LUNES           MEDIO           13   \n",
       "785677               2        0    VIERNES            BAJO           23   \n",
       "1008875             14        0     JUEVES            BAJO           11   \n",
       "1236561              1        0      LUNES            ALTO            7   \n",
       "1697624              3        0  MIERCOLES            BAJO           12   \n",
       "853429               1        0    DOMINGO            BAJO           14   \n",
       "436548               1        0     MARTES            BAJO           20   \n",
       "1855299              1        0  MIERCOLES            ALTO           13   \n",
       "\n",
       "        estacion_agno rango_horario  \n",
       "1018419      INVIERNO          6-11  \n",
       "2524838     PRIMAVERA         18-23  \n",
       "746383          OTOÑO         12-17  \n",
       "785677          OTOÑO         18-23  \n",
       "1008875      INVIERNO          6-11  \n",
       "1236561      INVIERNO          6-11  \n",
       "1697624      INVIERNO         12-17  \n",
       "853429          OTOÑO         12-17  \n",
       "436548          OTOÑO         18-23  \n",
       "1855299     PRIMAVERA         12-17  \n",
       "\n",
       "[10 rows x 23 columns]"
      ]
     },
     "execution_count": 4,
     "metadata": {},
     "output_type": "execute_result"
    }
   ],
   "source": [
    "df.sample(10)\n"
   ]
  },
  {
   "cell_type": "markdown",
   "metadata": {},
   "source": [
    "## Revisar las columnas que tenemos para determinar las variables a usar, la creación de las varibales dummies y la eliminación de variables redundantes"
   ]
  },
  {
   "cell_type": "code",
   "execution_count": 5,
   "metadata": {},
   "outputs": [
    {
     "data": {
      "text/plain": [
       "Index(['Unnamed: 0', 'bici_id_usuario', 'bici_Fecha_hora_retiro',\n",
       "       'bici_tiempo_uso', 'bici_nombre_estacion_origen',\n",
       "       'bici_estacion_origen', 'bici_nombre_estacion_destino',\n",
       "       'bici_estacion_destino', 'bici_sexo', 'bici_edad', 'fecha', 'hora',\n",
       "       'dia_semana', 'barrio_origen', 'comuna_origen', 'barrio_destino',\n",
       "       'comuna_destino', 'feriado', 'dia', 'uso_categorico', 'hora_simple',\n",
       "       'estacion_agno', 'rango_horario'],\n",
       "      dtype='object')"
      ]
     },
     "execution_count": 5,
     "metadata": {},
     "output_type": "execute_result"
    }
   ],
   "source": [
    "df.columns"
   ]
  },
  {
   "cell_type": "code",
   "execution_count": 6,
   "metadata": {},
   "outputs": [
    {
     "data": {
      "text/plain": [
       "Unnamed: 0                      0\n",
       "bici_id_usuario                 0\n",
       "bici_Fecha_hora_retiro          0\n",
       "bici_tiempo_uso                 0\n",
       "bici_nombre_estacion_origen     0\n",
       "bici_estacion_origen            0\n",
       "bici_nombre_estacion_destino    0\n",
       "bici_estacion_destino           0\n",
       "bici_sexo                       0\n",
       "bici_edad                       0\n",
       "fecha                           0\n",
       "hora                            0\n",
       "dia_semana                      0\n",
       "barrio_origen                   0\n",
       "comuna_origen                   0\n",
       "barrio_destino                  0\n",
       "comuna_destino                  0\n",
       "feriado                         0\n",
       "dia                             0\n",
       "uso_categorico                  0\n",
       "hora_simple                     0\n",
       "estacion_agno                   0\n",
       "rango_horario                   0\n",
       "dtype: int64"
      ]
     },
     "execution_count": 6,
     "metadata": {},
     "output_type": "execute_result"
    }
   ],
   "source": [
    "#Revisando valores nulos\n",
    "df.isnull().sum()"
   ]
  },
  {
   "cell_type": "code",
   "execution_count": 7,
   "metadata": {},
   "outputs": [
    {
     "data": {
      "image/png": "[encoded data removed]",
      "text/plain": [
       "<Figure size 432x288 with 2 Axes>"
      ]
     },
     "metadata": {
      "needs_background": "light"
     },
     "output_type": "display_data"
    }
   ],
   "source": [
    "# visualizamos la matriz de correlación en Seaborn usando a heatmap\n",
    "\n",
    "sns.heatmap(df.corr(), vmin=-1, vmax=1, center=0, cmap=\"YlGnBu\");"
   ]
  },
  {
   "cell_type": "code",
   "execution_count": 8,
   "metadata": {},
   "outputs": [],
   "source": [
    "#Generando variables dummies\n",
    "dummies_dia = pd.get_dummies(df.dia, prefix=None, prefix_sep='_', drop_first=True)\n",
    "dummies_sexo=pd.get_dummies(df.bici_sexo, prefix=None, prefix_sep='_', drop_first=True)\n",
    "dummies_origen=pd.get_dummies(df.bici_nombre_estacion_origen, prefix=None, prefix_sep='_', drop_first=True)\n",
    "dummies_comuna=pd.get_dummies(df.comuna_origen, prefix='comuna', prefix_sep='_', drop_first=True)\n",
    "dummies_estacion_agno=pd.get_dummies(df.estacion_agno, prefix=None, prefix_sep='_', drop_first=True)\n",
    "dummies_rango=pd.get_dummies(df.rango_horario, prefix=None, prefix_sep='_', drop_first=True)\n"
   ]
  },
  {
   "cell_type": "code",
   "execution_count": 9,
   "metadata": {},
   "outputs": [],
   "source": [
    "#Concatenamos los df de las dummies\n",
    "df=pd.concat([df,dummies_sexo,dummies_dia,dummies_comuna,dummies_rango,dummies_origen,dummies_estacion_agno], axis=1)"
   ]
  },
  {
   "cell_type": "code",
   "execution_count": 10,
   "metadata": {},
   "outputs": [
    {
     "data": {
      "text/html": [
       "<div>\n",
       "<style scoped>\n",
       "    .dataframe tbody tr th:only-of-type {\n",
       "        vertical-align: middle;\n",
       "    }\n",
       "\n",
       "    .dataframe tbody tr th {\n",
       "        vertical-align: top;\n",
       "    }\n",
       "\n",
       "    .dataframe thead th {\n",
       "        text-align: right;\n",
       "    }\n",
       "</style>\n",
       "<table border=\"1\" class=\"dataframe\">\n",
       "  <thead>\n",
       "    <tr style=\"text-align: right;\">\n",
       "      <th></th>\n",
       "      <th>Unnamed: 0</th>\n",
       "      <th>bici_id_usuario</th>\n",
       "      <th>bici_Fecha_hora_retiro</th>\n",
       "      <th>bici_tiempo_uso</th>\n",
       "      <th>bici_nombre_estacion_origen</th>\n",
       "      <th>bici_estacion_origen</th>\n",
       "      <th>bici_nombre_estacion_destino</th>\n",
       "      <th>bici_estacion_destino</th>\n",
       "      <th>bici_sexo</th>\n",
       "      <th>bici_edad</th>\n",
       "      <th>...</th>\n",
       "      <th>Velasco</th>\n",
       "      <th>Venezuela</th>\n",
       "      <th>Vera Peñaloza</th>\n",
       "      <th>Villarroel</th>\n",
       "      <th>Virrey Cevallos</th>\n",
       "      <th>Virrey Liniers</th>\n",
       "      <th>Yatay</th>\n",
       "      <th>OTOÑO</th>\n",
       "      <th>PRIMAVERA</th>\n",
       "      <th>VERANO</th>\n",
       "    </tr>\n",
       "  </thead>\n",
       "  <tbody>\n",
       "    <tr>\n",
       "      <th>0</th>\n",
       "      <td>0</td>\n",
       "      <td>5453</td>\n",
       "      <td>2018-01-01 00:08:05</td>\n",
       "      <td>19</td>\n",
       "      <td>Uruguay</td>\n",
       "      <td>45</td>\n",
       "      <td>Virrey Cevallos</td>\n",
       "      <td>183</td>\n",
       "      <td>M</td>\n",
       "      <td>45</td>\n",
       "      <td>...</td>\n",
       "      <td>0</td>\n",
       "      <td>0</td>\n",
       "      <td>0</td>\n",
       "      <td>0</td>\n",
       "      <td>0</td>\n",
       "      <td>0</td>\n",
       "      <td>0</td>\n",
       "      <td>0</td>\n",
       "      <td>0</td>\n",
       "      <td>1</td>\n",
       "    </tr>\n",
       "    <tr>\n",
       "      <th>1</th>\n",
       "      <td>1</td>\n",
       "      <td>673</td>\n",
       "      <td>2018-01-01 00:18:05</td>\n",
       "      <td>26</td>\n",
       "      <td>Posadas</td>\n",
       "      <td>189</td>\n",
       "      <td>Guardia Vieja</td>\n",
       "      <td>110</td>\n",
       "      <td>M</td>\n",
       "      <td>61</td>\n",
       "      <td>...</td>\n",
       "      <td>0</td>\n",
       "      <td>0</td>\n",
       "      <td>0</td>\n",
       "      <td>0</td>\n",
       "      <td>0</td>\n",
       "      <td>0</td>\n",
       "      <td>0</td>\n",
       "      <td>0</td>\n",
       "      <td>0</td>\n",
       "      <td>1</td>\n",
       "    </tr>\n",
       "    <tr>\n",
       "      <th>2</th>\n",
       "      <td>2</td>\n",
       "      <td>179119</td>\n",
       "      <td>2018-01-01 00:20:14</td>\n",
       "      <td>27</td>\n",
       "      <td>Hospital Rivadavia</td>\n",
       "      <td>50</td>\n",
       "      <td>Padilla</td>\n",
       "      <td>31</td>\n",
       "      <td>F</td>\n",
       "      <td>52</td>\n",
       "      <td>...</td>\n",
       "      <td>0</td>\n",
       "      <td>0</td>\n",
       "      <td>0</td>\n",
       "      <td>0</td>\n",
       "      <td>0</td>\n",
       "      <td>0</td>\n",
       "      <td>0</td>\n",
       "      <td>0</td>\n",
       "      <td>0</td>\n",
       "      <td>1</td>\n",
       "    </tr>\n",
       "    <tr>\n",
       "      <th>3</th>\n",
       "      <td>3</td>\n",
       "      <td>400147</td>\n",
       "      <td>2018-01-01 00:20:22</td>\n",
       "      <td>48</td>\n",
       "      <td>Macacha Güemes</td>\n",
       "      <td>111</td>\n",
       "      <td>Acuña de Figueroa</td>\n",
       "      <td>54</td>\n",
       "      <td>M</td>\n",
       "      <td>27</td>\n",
       "      <td>...</td>\n",
       "      <td>0</td>\n",
       "      <td>0</td>\n",
       "      <td>0</td>\n",
       "      <td>0</td>\n",
       "      <td>0</td>\n",
       "      <td>0</td>\n",
       "      <td>0</td>\n",
       "      <td>0</td>\n",
       "      <td>0</td>\n",
       "      <td>1</td>\n",
       "    </tr>\n",
       "    <tr>\n",
       "      <th>4</th>\n",
       "      <td>4</td>\n",
       "      <td>400156</td>\n",
       "      <td>2018-01-01 00:20:31</td>\n",
       "      <td>49</td>\n",
       "      <td>Macacha Güemes</td>\n",
       "      <td>111</td>\n",
       "      <td>Acuña de Figueroa</td>\n",
       "      <td>54</td>\n",
       "      <td>F</td>\n",
       "      <td>27</td>\n",
       "      <td>...</td>\n",
       "      <td>0</td>\n",
       "      <td>0</td>\n",
       "      <td>0</td>\n",
       "      <td>0</td>\n",
       "      <td>0</td>\n",
       "      <td>0</td>\n",
       "      <td>0</td>\n",
       "      <td>0</td>\n",
       "      <td>0</td>\n",
       "      <td>1</td>\n",
       "    </tr>\n",
       "  </tbody>\n",
       "</table>\n",
       "<p>5 rows × 243 columns</p>\n",
       "</div>"
      ],
      "text/plain": [
       "   Unnamed: 0  bici_id_usuario bici_Fecha_hora_retiro  bici_tiempo_uso  \\\n",
       "0           0             5453    2018-01-01 00:08:05               19   \n",
       "1           1              673    2018-01-01 00:18:05               26   \n",
       "2           2           179119    2018-01-01 00:20:14               27   \n",
       "3           3           400147    2018-01-01 00:20:22               48   \n",
       "4           4           400156    2018-01-01 00:20:31               49   \n",
       "\n",
       "  bici_nombre_estacion_origen  bici_estacion_origen  \\\n",
       "0                     Uruguay                    45   \n",
       "1                     Posadas                   189   \n",
       "2          Hospital Rivadavia                    50   \n",
       "3              Macacha Güemes                   111   \n",
       "4              Macacha Güemes                   111   \n",
       "\n",
       "  bici_nombre_estacion_destino  bici_estacion_destino bici_sexo  bici_edad  \\\n",
       "0              Virrey Cevallos                    183         M         45   \n",
       "1                Guardia Vieja                    110         M         61   \n",
       "2                      Padilla                     31         F         52   \n",
       "3            Acuña de Figueroa                     54         M         27   \n",
       "4            Acuña de Figueroa                     54         F         27   \n",
       "\n",
       "   ... Velasco Venezuela  Vera Peñaloza Villarroel  Virrey Cevallos  \\\n",
       "0  ...       0         0              0          0                0   \n",
       "1  ...       0         0              0          0                0   \n",
       "2  ...       0         0              0          0                0   \n",
       "3  ...       0         0              0          0                0   \n",
       "4  ...       0         0              0          0                0   \n",
       "\n",
       "  Virrey Liniers  Yatay  OTOÑO PRIMAVERA VERANO  \n",
       "0              0      0      0         0      1  \n",
       "1              0      0      0         0      1  \n",
       "2              0      0      0         0      1  \n",
       "3              0      0      0         0      1  \n",
       "4              0      0      0         0      1  \n",
       "\n",
       "[5 rows x 243 columns]"
      ]
     },
     "execution_count": 10,
     "metadata": {},
     "output_type": "execute_result"
    }
   ],
   "source": [
    "df.head()"
   ]
  },
  {
   "cell_type": "code",
   "execution_count": 11,
   "metadata": {},
   "outputs": [
    {
     "data": {
      "text/html": [
       "<div>\n",
       "<style scoped>\n",
       "    .dataframe tbody tr th:only-of-type {\n",
       "        vertical-align: middle;\n",
       "    }\n",
       "\n",
       "    .dataframe tbody tr th {\n",
       "        vertical-align: top;\n",
       "    }\n",
       "\n",
       "    .dataframe thead th {\n",
       "        text-align: right;\n",
       "    }\n",
       "</style>\n",
       "<table border=\"1\" class=\"dataframe\">\n",
       "  <thead>\n",
       "    <tr style=\"text-align: right;\">\n",
       "      <th></th>\n",
       "      <th>bici_edad</th>\n",
       "      <th>comuna_origen</th>\n",
       "      <th>feriado</th>\n",
       "      <th>uso_categorico</th>\n",
       "      <th>hora_simple</th>\n",
       "      <th>M</th>\n",
       "      <th>N</th>\n",
       "      <th>JUEVES</th>\n",
       "      <th>LUNES</th>\n",
       "      <th>MARTES</th>\n",
       "      <th>...</th>\n",
       "      <th>Velasco</th>\n",
       "      <th>Venezuela</th>\n",
       "      <th>Vera Peñaloza</th>\n",
       "      <th>Villarroel</th>\n",
       "      <th>Virrey Cevallos</th>\n",
       "      <th>Virrey Liniers</th>\n",
       "      <th>Yatay</th>\n",
       "      <th>OTOÑO</th>\n",
       "      <th>PRIMAVERA</th>\n",
       "      <th>VERANO</th>\n",
       "    </tr>\n",
       "  </thead>\n",
       "  <tbody>\n",
       "    <tr>\n",
       "      <th>0</th>\n",
       "      <td>45</td>\n",
       "      <td>1</td>\n",
       "      <td>1</td>\n",
       "      <td>BAJO</td>\n",
       "      <td>0</td>\n",
       "      <td>1</td>\n",
       "      <td>0</td>\n",
       "      <td>0</td>\n",
       "      <td>1</td>\n",
       "      <td>0</td>\n",
       "      <td>...</td>\n",
       "      <td>0</td>\n",
       "      <td>0</td>\n",
       "      <td>0</td>\n",
       "      <td>0</td>\n",
       "      <td>0</td>\n",
       "      <td>0</td>\n",
       "      <td>0</td>\n",
       "      <td>0</td>\n",
       "      <td>0</td>\n",
       "      <td>1</td>\n",
       "    </tr>\n",
       "    <tr>\n",
       "      <th>1</th>\n",
       "      <td>61</td>\n",
       "      <td>2</td>\n",
       "      <td>1</td>\n",
       "      <td>BAJO</td>\n",
       "      <td>0</td>\n",
       "      <td>1</td>\n",
       "      <td>0</td>\n",
       "      <td>0</td>\n",
       "      <td>1</td>\n",
       "      <td>0</td>\n",
       "      <td>...</td>\n",
       "      <td>0</td>\n",
       "      <td>0</td>\n",
       "      <td>0</td>\n",
       "      <td>0</td>\n",
       "      <td>0</td>\n",
       "      <td>0</td>\n",
       "      <td>0</td>\n",
       "      <td>0</td>\n",
       "      <td>0</td>\n",
       "      <td>1</td>\n",
       "    </tr>\n",
       "    <tr>\n",
       "      <th>2</th>\n",
       "      <td>52</td>\n",
       "      <td>14</td>\n",
       "      <td>1</td>\n",
       "      <td>BAJO</td>\n",
       "      <td>0</td>\n",
       "      <td>0</td>\n",
       "      <td>0</td>\n",
       "      <td>0</td>\n",
       "      <td>1</td>\n",
       "      <td>0</td>\n",
       "      <td>...</td>\n",
       "      <td>0</td>\n",
       "      <td>0</td>\n",
       "      <td>0</td>\n",
       "      <td>0</td>\n",
       "      <td>0</td>\n",
       "      <td>0</td>\n",
       "      <td>0</td>\n",
       "      <td>0</td>\n",
       "      <td>0</td>\n",
       "      <td>1</td>\n",
       "    </tr>\n",
       "    <tr>\n",
       "      <th>3</th>\n",
       "      <td>27</td>\n",
       "      <td>1</td>\n",
       "      <td>1</td>\n",
       "      <td>MEDIO</td>\n",
       "      <td>0</td>\n",
       "      <td>1</td>\n",
       "      <td>0</td>\n",
       "      <td>0</td>\n",
       "      <td>1</td>\n",
       "      <td>0</td>\n",
       "      <td>...</td>\n",
       "      <td>0</td>\n",
       "      <td>0</td>\n",
       "      <td>0</td>\n",
       "      <td>0</td>\n",
       "      <td>0</td>\n",
       "      <td>0</td>\n",
       "      <td>0</td>\n",
       "      <td>0</td>\n",
       "      <td>0</td>\n",
       "      <td>1</td>\n",
       "    </tr>\n",
       "    <tr>\n",
       "      <th>4</th>\n",
       "      <td>27</td>\n",
       "      <td>1</td>\n",
       "      <td>1</td>\n",
       "      <td>MEDIO</td>\n",
       "      <td>0</td>\n",
       "      <td>0</td>\n",
       "      <td>0</td>\n",
       "      <td>0</td>\n",
       "      <td>1</td>\n",
       "      <td>0</td>\n",
       "      <td>...</td>\n",
       "      <td>0</td>\n",
       "      <td>0</td>\n",
       "      <td>0</td>\n",
       "      <td>0</td>\n",
       "      <td>0</td>\n",
       "      <td>0</td>\n",
       "      <td>0</td>\n",
       "      <td>0</td>\n",
       "      <td>0</td>\n",
       "      <td>1</td>\n",
       "    </tr>\n",
       "  </tbody>\n",
       "</table>\n",
       "<p>5 rows × 225 columns</p>\n",
       "</div>"
      ],
      "text/plain": [
       "   bici_edad  comuna_origen  feriado uso_categorico  hora_simple  M  N  \\\n",
       "0         45              1        1           BAJO            0  1  0   \n",
       "1         61              2        1           BAJO            0  1  0   \n",
       "2         52             14        1           BAJO            0  0  0   \n",
       "3         27              1        1          MEDIO            0  1  0   \n",
       "4         27              1        1          MEDIO            0  0  0   \n",
       "\n",
       "   JUEVES  LUNES  MARTES  ...  Velasco  Venezuela  Vera Peñaloza  Villarroel  \\\n",
       "0       0      1       0  ...        0          0              0           0   \n",
       "1       0      1       0  ...        0          0              0           0   \n",
       "2       0      1       0  ...        0          0              0           0   \n",
       "3       0      1       0  ...        0          0              0           0   \n",
       "4       0      1       0  ...        0          0              0           0   \n",
       "\n",
       "   Virrey Cevallos  Virrey Liniers  Yatay  OTOÑO  PRIMAVERA  VERANO  \n",
       "0                0               0      0      0          0       1  \n",
       "1                0               0      0      0          0       1  \n",
       "2                0               0      0      0          0       1  \n",
       "3                0               0      0      0          0       1  \n",
       "4                0               0      0      0          0       1  \n",
       "\n",
       "[5 rows x 225 columns]"
      ]
     },
     "execution_count": 11,
     "metadata": {},
     "output_type": "execute_result"
    }
   ],
   "source": [
    "#Dropear las features redundantes o que no necesitamos\n",
    "df = df.drop(['barrio_destino'], axis=1)\n",
    "df = df.drop(['barrio_origen'], axis=1)\n",
    "df = df.drop(['bici_nombre_estacion_destino'], axis=1)\n",
    "df = df.drop(['bici_nombre_estacion_origen'], axis=1)\n",
    "df = df.drop(['dia'], axis=1)\n",
    "df = df.drop(['Unnamed: 0'], axis=1)\n",
    "df=df.drop(['bici_id_usuario'], axis=1)\n",
    "df=df.drop(['bici_Fecha_hora_retiro'], axis=1)\n",
    "df=df.drop(['bici_estacion_origen'], axis=1)\n",
    "df=df.drop(['bici_estacion_destino'], axis=1)\n",
    "df=df.drop(['fecha'], axis=1)\n",
    "df=df.drop(['dia_semana'], axis=1)\n",
    "df=df.drop(['bici_sexo'], axis=1)\n",
    "df=df.drop(['comuna_destino'], axis=1)\n",
    "df=df.drop(['hora'], axis=1)\n",
    "df=df.drop(['estacion_agno'], axis=1)\n",
    "df=df.drop(['rango_horario'], axis=1)\n",
    "df=df.drop(['bici_tiempo_uso'], axis=1)\n",
    "\n",
    "\n",
    "df.head()"
   ]
  },
  {
   "cell_type": "code",
   "execution_count": 12,
   "metadata": {},
   "outputs": [
    {
     "data": {
      "text/plain": [
       "Index(['bici_edad', 'comuna_origen', 'feriado', 'uso_categorico',\n",
       "       'hora_simple', 'M', 'N', 'JUEVES', 'LUNES', 'MARTES',\n",
       "       ...\n",
       "       'Velasco', 'Venezuela', 'Vera Peñaloza', 'Villarroel',\n",
       "       'Virrey Cevallos', 'Virrey Liniers', 'Yatay', 'OTOÑO', 'PRIMAVERA',\n",
       "       'VERANO'],\n",
       "      dtype='object', length=225)"
      ]
     },
     "execution_count": 12,
     "metadata": {},
     "output_type": "execute_result"
    }
   ],
   "source": [
    "df.columns"
   ]
  },
  {
   "cell_type": "code",
   "execution_count": 14,
   "metadata": {},
   "outputs": [],
   "source": [
    "# Para Entrenamiento\n",
    "df_bajo_E = df.loc[(df['uso_categorico']=='BAJO') & (df['uso_categorico'].index % 2 == 0),:].sample(25000, random_state= 5)\n",
    "df_medio_E = df.loc[(df['uso_categorico']=='MEDIO') & (df['uso_categorico'].index % 2 == 0),:].sample(25000, random_state= 15)\n",
    "df_alto_E = df.loc[(df['uso_categorico']=='ALTO') & (df['uso_categorico'].index % 2 == 0),:].sample(25000, random_state= 25)\n",
    "df_excedido_E = df.loc[(df['uso_categorico']=='EXCEDIDO') & (df['uso_categorico'].index % 2 == 0),:].sample(25000, random_state= 35)"
   ]
  },
  {
   "cell_type": "code",
   "execution_count": 15,
   "metadata": {},
   "outputs": [],
   "source": [
    "df_balance = pd.concat([df_bajo_E, df_medio_E, df_alto_E,  df_excedido_E])"
   ]
  },
  {
   "cell_type": "code",
   "execution_count": 21,
   "metadata": {},
   "outputs": [],
   "source": [
    "y_train=df_balance['uso_categorico']"
   ]
  },
  {
   "cell_type": "code",
   "execution_count": 22,
   "metadata": {},
   "outputs": [],
   "source": [
    "X_train=df_balance.drop(['uso_categorico'], axis=1)"
   ]
  },
  {
   "cell_type": "code",
   "execution_count": 23,
   "metadata": {},
   "outputs": [],
   "source": [
    "df_test = df.loc[(df['uso_categorico'].index % 2 == 1),:].sample(200000, random_state= 5)"
   ]
  },
  {
   "cell_type": "code",
   "execution_count": 24,
   "metadata": {},
   "outputs": [],
   "source": [
    "y_test=df_test['uso_categorico']"
   ]
  },
  {
   "cell_type": "code",
   "execution_count": 25,
   "metadata": {},
   "outputs": [],
   "source": [
    "X_test=df_test.drop(['uso_categorico'], axis=1)"
   ]
  },
  {
   "cell_type": "code",
   "execution_count": 26,
   "metadata": {},
   "outputs": [],
   "source": [
    "from sklearn.preprocessing import StandardScaler\n",
    "sc=StandardScaler()\n",
    "X_train=sc.fit_transform(X_train)\n",
    "X_test=sc.transform(X_test)"
   ]
  },
  {
   "cell_type": "code",
   "execution_count": 27,
   "metadata": {},
   "outputs": [],
   "source": [
    "from sklearn.ensemble import RandomForestClassifier\n",
    "from sklearn.model_selection import GridSearchCV"
   ]
  },
  {
   "cell_type": "code",
   "execution_count": 28,
   "metadata": {},
   "outputs": [],
   "source": [
    "model=RandomForestClassifier(random_state=0, n_jobs=8)"
   ]
  },
  {
   "cell_type": "code",
   "execution_count": 64,
   "metadata": {},
   "outputs": [],
   "source": [
    "#parametros a tunear, aca hay otras opciones mañana me pongo a leer la documentacion y veo q mas se puede tunear\n",
    "params={'n_estimators':[200,300],\n",
    "        \n",
    "       }"
   ]
  },
  {
   "cell_type": "code",
   "execution_count": 65,
   "metadata": {},
   "outputs": [],
   "source": [
    "gs = GridSearchCV(model, params, cv=5, n_jobs=8)"
   ]
  },
  {
   "cell_type": "code",
   "execution_count": 66,
   "metadata": {},
   "outputs": [
    {
     "data": {
      "text/plain": [
       "GridSearchCV(cv=5, error_score='raise-deprecating',\n",
       "             estimator=RandomForestClassifier(bootstrap=True, class_weight=None,\n",
       "                                              criterion='gini', max_depth=None,\n",
       "                                              max_features='auto',\n",
       "                                              max_leaf_nodes=None,\n",
       "                                              min_impurity_decrease=0.0,\n",
       "                                              min_impurity_split=None,\n",
       "                                              min_samples_leaf=1,\n",
       "                                              min_samples_split=2,\n",
       "                                              min_weight_fraction_leaf=0.0,\n",
       "                                              n_estimators='warn', n_jobs=8,\n",
       "                                              oob_score=False, random_state=0,\n",
       "                                              verbose=0, warm_start=False),\n",
       "             iid='warn', n_jobs=8, param_grid={'n_estimators': [200, 300]},\n",
       "             pre_dispatch='2*n_jobs', refit=True, return_train_score=False,\n",
       "             scoring=None, verbose=0)"
      ]
     },
     "execution_count": 66,
     "metadata": {},
     "output_type": "execute_result"
    }
   ],
   "source": [
    "gs.fit(X_train, y_train)"
   ]
  },
  {
   "cell_type": "code",
   "execution_count": 71,
   "metadata": {},
   "outputs": [
    {
     "data": {
      "text/plain": [
       "dict_keys(['mean_fit_time', 'std_fit_time', 'mean_score_time', 'std_score_time', 'param_n_estimators', 'params', 'split0_test_score', 'split1_test_score', 'split2_test_score', 'split3_test_score', 'split4_test_score', 'mean_test_score', 'std_test_score', 'rank_test_score'])"
      ]
     },
     "execution_count": 71,
     "metadata": {},
     "output_type": "execute_result"
    }
   ],
   "source": [
    "gs.cv_results_.keys()"
   ]
  },
  {
   "cell_type": "code",
   "execution_count": 72,
   "metadata": {},
   "outputs": [
    {
     "data": {
      "text/plain": [
       "Index(['mean_fit_time', 'std_fit_time', 'mean_score_time', 'std_score_time',\n",
       "       'param_n_estimators', 'params', 'split0_test_score',\n",
       "       'split1_test_score', 'split2_test_score', 'split3_test_score',\n",
       "       'split4_test_score', 'mean_test_score', 'std_test_score',\n",
       "       'rank_test_score'],\n",
       "      dtype='object')"
      ]
     },
     "execution_count": 72,
     "metadata": {},
     "output_type": "execute_result"
    }
   ],
   "source": [
    "pd.DataFrame(gs.cv_results_).columns"
   ]
  },
  {
   "cell_type": "code",
   "execution_count": 73,
   "metadata": {},
   "outputs": [
    {
     "data": {
      "text/html": [
       "<div>\n",
       "<style scoped>\n",
       "    .dataframe tbody tr th:only-of-type {\n",
       "        vertical-align: middle;\n",
       "    }\n",
       "\n",
       "    .dataframe tbody tr th {\n",
       "        vertical-align: top;\n",
       "    }\n",
       "\n",
       "    .dataframe thead th {\n",
       "        text-align: right;\n",
       "    }\n",
       "</style>\n",
       "<table border=\"1\" class=\"dataframe\">\n",
       "  <thead>\n",
       "    <tr style=\"text-align: right;\">\n",
       "      <th></th>\n",
       "      <th>mean_fit_time</th>\n",
       "      <th>std_fit_time</th>\n",
       "      <th>mean_score_time</th>\n",
       "      <th>std_score_time</th>\n",
       "      <th>param_n_estimators</th>\n",
       "      <th>params</th>\n",
       "      <th>split0_test_score</th>\n",
       "      <th>split1_test_score</th>\n",
       "      <th>split2_test_score</th>\n",
       "      <th>split3_test_score</th>\n",
       "      <th>split4_test_score</th>\n",
       "      <th>mean_test_score</th>\n",
       "      <th>std_test_score</th>\n",
       "      <th>rank_test_score</th>\n",
       "    </tr>\n",
       "  </thead>\n",
       "  <tbody>\n",
       "    <tr>\n",
       "      <th>0</th>\n",
       "      <td>226.666097</td>\n",
       "      <td>3.043097</td>\n",
       "      <td>654.812928</td>\n",
       "      <td>19.291168</td>\n",
       "      <td>200</td>\n",
       "      <td>{'n_estimators': 200}</td>\n",
       "      <td>0.31095</td>\n",
       "      <td>0.31295</td>\n",
       "      <td>0.30575</td>\n",
       "      <td>0.31035</td>\n",
       "      <td>0.30675</td>\n",
       "      <td>0.30935</td>\n",
       "      <td>0.002692</td>\n",
       "      <td>1</td>\n",
       "    </tr>\n",
       "    <tr>\n",
       "      <th>1</th>\n",
       "      <td>300.813435</td>\n",
       "      <td>163.788040</td>\n",
       "      <td>268.014166</td>\n",
       "      <td>217.794097</td>\n",
       "      <td>300</td>\n",
       "      <td>{'n_estimators': 300}</td>\n",
       "      <td>0.30950</td>\n",
       "      <td>0.31290</td>\n",
       "      <td>0.30690</td>\n",
       "      <td>0.30875</td>\n",
       "      <td>0.30740</td>\n",
       "      <td>0.30909</td>\n",
       "      <td>0.002119</td>\n",
       "      <td>2</td>\n",
       "    </tr>\n",
       "  </tbody>\n",
       "</table>\n",
       "</div>"
      ],
      "text/plain": [
       "   mean_fit_time  std_fit_time  mean_score_time  std_score_time  \\\n",
       "0     226.666097      3.043097       654.812928       19.291168   \n",
       "1     300.813435    163.788040       268.014166      217.794097   \n",
       "\n",
       "  param_n_estimators                 params  split0_test_score  \\\n",
       "0                200  {'n_estimators': 200}            0.31095   \n",
       "1                300  {'n_estimators': 300}            0.30950   \n",
       "\n",
       "   split1_test_score  split2_test_score  split3_test_score  split4_test_score  \\\n",
       "0            0.31295            0.30575            0.31035            0.30675   \n",
       "1            0.31290            0.30690            0.30875            0.30740   \n",
       "\n",
       "   mean_test_score  std_test_score  rank_test_score  \n",
       "0          0.30935        0.002692                1  \n",
       "1          0.30909        0.002119                2  "
      ]
     },
     "execution_count": 73,
     "metadata": {},
     "output_type": "execute_result"
    }
   ],
   "source": [
    "pd.DataFrame(gs.cv_results_)"
   ]
  },
  {
   "cell_type": "code",
   "execution_count": 74,
   "metadata": {},
   "outputs": [
    {
     "data": {
      "text/plain": [
       "(RandomForestClassifier(bootstrap=True, class_weight=None, criterion='gini',\n",
       "                        max_depth=None, max_features='auto', max_leaf_nodes=None,\n",
       "                        min_impurity_decrease=0.0, min_impurity_split=None,\n",
       "                        min_samples_leaf=1, min_samples_split=2,\n",
       "                        min_weight_fraction_leaf=0.0, n_estimators=200, n_jobs=8,\n",
       "                        oob_score=False, random_state=0, verbose=0,\n",
       "                        warm_start=False), 0.30935, {'n_estimators': 200})"
      ]
     },
     "execution_count": 74,
     "metadata": {},
     "output_type": "execute_result"
    }
   ],
   "source": [
    "#mejor resultado, el 0.3095 es la acuracy, muy mala\n",
    "gs.best_estimator_, gs.best_score_, gs.best_params_"
   ]
  },
  {
   "cell_type": "code",
   "execution_count": 27,
   "metadata": {},
   "outputs": [
    {
     "data": {
      "text/plain": [
       "RandomForestClassifier(bootstrap=True, class_weight='balanced_subsample',\n",
       "                       criterion='gini', max_depth=None, max_features='auto',\n",
       "                       max_leaf_nodes=None, min_impurity_decrease=0.0,\n",
       "                       min_impurity_split=None, min_samples_leaf=1,\n",
       "                       min_samples_split=2, min_weight_fraction_leaf=0.0,\n",
       "                       n_estimators=224, n_jobs=8, oob_score=False,\n",
       "                       random_state=0, verbose=0, warm_start=False)"
      ]
     },
     "execution_count": 27,
     "metadata": {},
     "output_type": "execute_result"
    }
   ],
   "source": [
    "dfc=RandomForestClassifier(bootstrap=True, class_weight='balanced_subsample',\n",
    "                        criterion='gini', max_depth=None, max_features='auto',\n",
    "                        max_leaf_nodes=None, min_impurity_decrease=0.0,\n",
    "                        min_impurity_split=None, min_samples_leaf=1,\n",
    "                        min_samples_split=2, min_weight_fraction_leaf=0.0,\n",
    "                        n_estimators=224, n_jobs=8, oob_score=False,\n",
    "                        random_state=0, verbose=0, warm_start=False)\n",
    "dfc.fit(X_train, y_train)"
   ]
  },
  {
   "cell_type": "code",
   "execution_count": 28,
   "metadata": {},
   "outputs": [],
   "source": [
    "y_pred=dfc.predict(X_test)"
   ]
  },
  {
   "cell_type": "code",
   "execution_count": 29,
   "metadata": {},
   "outputs": [],
   "source": [
    "from sklearn.metrics import classification_report, confusion_matrix, accuracy_score"
   ]
  },
  {
   "cell_type": "code",
   "execution_count": 30,
   "metadata": {},
   "outputs": [
    {
     "name": "stdout",
     "output_type": "stream",
     "text": [
      "[[  118  1603     5   435]\n",
      " [  679 39283    27  5125]\n",
      " [    5    68     1    16]\n",
      " [  326  9315     9  2985]]\n",
      "              precision    recall  f1-score   support\n",
      "\n",
      "        ALTO       0.10      0.05      0.07      2161\n",
      "        BAJO       0.78      0.87      0.82     45114\n",
      "    EXCEDIDO       0.02      0.01      0.02        90\n",
      "       MEDIO       0.35      0.24      0.28     12635\n",
      "\n",
      "    accuracy                           0.71     60000\n",
      "   macro avg       0.31      0.29      0.30     60000\n",
      "weighted avg       0.66      0.71      0.68     60000\n",
      "\n",
      "0.70645\n"
     ]
    }
   ],
   "source": [
    "print(confusion_matrix(y_test,y_pred))\n",
    "print(classification_report(y_test,y_pred))\n",
    "print(accuracy_score(y_test,y_pred))"
   ]
  },
  {
   "cell_type": "code",
   "execution_count": 31,
   "metadata": {},
   "outputs": [
    {
     "data": {
      "image/png": "[encoded data removed]",
      "text/plain": [
       "<Figure size 432x288 with 2 Axes>"
      ]
     },
     "metadata": {
      "needs_background": "light"
     },
     "output_type": "display_data"
    }
   ],
   "source": [
    "\n",
    "sns.heatmap(confusion_matrix(y_test, y_pred), annot=True,cmap='YlGn')\n",
    "plt.ylabel('Valores verdaderos')\n",
    "plt.xlabel('Valores predichos');"
   ]
  },
  {
   "cell_type": "code",
   "execution_count": 31,
   "metadata": {},
   "outputs": [],
   "source": [
    "y_test=df['uso_categorico'].sample(600000, random_state=15)\n",
    "X_test=df.sample(600000, random_state=15)\n",
    "X_test=X_test.drop(['uso_categorico'], axis=1)"
   ]
  },
  {
   "cell_type": "code",
   "execution_count": 32,
   "metadata": {
    "scrolled": false
   },
   "outputs": [
    {
     "name": "stdout",
     "output_type": "stream",
     "text": [
      "[[ 40723      0    676   9197]\n",
      " [     0 373268      0    200]\n",
      " [   190      0  16624   5279]\n",
      " [   258     16    922 152647]]\n",
      "              precision    recall  f1-score   support\n",
      "\n",
      "        ALTO       0.99      0.80      0.89     50596\n",
      "        BAJO       1.00      1.00      1.00    373468\n",
      "    EXCEDIDO       0.91      0.75      0.82     22093\n",
      "       MEDIO       0.91      0.99      0.95    153843\n",
      "\n",
      "    accuracy                           0.97    600000\n",
      "   macro avg       0.95      0.89      0.92    600000\n",
      "weighted avg       0.97      0.97      0.97    600000\n",
      "\n",
      "0.9721033333333333\n"
     ]
    }
   ],
   "source": [
    "X_test=sc.transform(X_test)\n",
    "y_pred=dfc.predict(X_test)\n",
    "print(confusion_matrix(y_test,y_pred))\n",
    "print(classification_report(y_test,y_pred))\n",
    "print(accuracy_score(y_test,y_pred))"
   ]
  },
  {
   "cell_type": "code",
   "execution_count": 54,
   "metadata": {},
   "outputs": [
    {
     "data": {
      "image/png": "[encoded data removed]",
      "text/plain": [
       "<Figure size 432x288 with 2 Axes>"
      ]
     },
     "metadata": {
      "needs_background": "light"
     },
     "output_type": "display_data"
    }
   ],
   "source": [
    "sns.heatmap(confusion_matrix(y_test, y_pred), annot=True,cmap='YlGn')\n",
    "plt.ylabel('Valores verdaderos')\n",
    "plt.xlabel('Valores predichos');"
   ]
  },
  {
   "cell_type": "code",
   "execution_count": null,
   "metadata": {},
   "outputs": [],
   "source": []
  }
 ],
 "metadata": {
  "kernelspec": {
   "display_name": "Python 3",
   "language": "python",
   "name": "python3"
  },
  "language_info": {
   "codemirror_mode": {
    "name": "ipython",
    "version": 3
   },
   "file_extension": ".py",
   "mimetype": "text/x-python",
   "name": "python",
   "nbconvert_exporter": "python",
   "pygments_lexer": "ipython3",
   "version": "3.7.3"
  }
 },
 "nbformat": 4,
 "nbformat_minor": 2
}
